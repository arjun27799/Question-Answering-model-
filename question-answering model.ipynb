{
  "nbformat": 4,
  "nbformat_minor": 0,
  "metadata": {
    "colab": {
      "name": "Untitled23.ipynb",
      "provenance": []
    },
    "kernelspec": {
      "name": "python3",
      "display_name": "Python 3"
    }
  },
  "cells": [
    {
      "cell_type": "code",
      "metadata": {
        "id": "-3axNg3W8GZq",
        "colab_type": "code",
        "colab": {
          "base_uri": "https://localhost:8080/",
          "height": 336
        },
        "outputId": "8fcdbb88-57a6-4bee-f57c-c1269274f70a"
      },
      "source": [
        "pip install transformers"
      ],
      "execution_count": 56,
      "outputs": [
        {
          "output_type": "stream",
          "text": [
            "Requirement already satisfied: transformers in /usr/local/lib/python3.6/dist-packages (3.1.0)\n",
            "Requirement already satisfied: regex!=2019.12.17 in /usr/local/lib/python3.6/dist-packages (from transformers) (2019.12.20)\n",
            "Requirement already satisfied: tokenizers==0.8.1.rc2 in /usr/local/lib/python3.6/dist-packages (from transformers) (0.8.1rc2)\n",
            "Requirement already satisfied: numpy in /usr/local/lib/python3.6/dist-packages (from transformers) (1.18.5)\n",
            "Requirement already satisfied: packaging in /usr/local/lib/python3.6/dist-packages (from transformers) (20.4)\n",
            "Requirement already satisfied: filelock in /usr/local/lib/python3.6/dist-packages (from transformers) (3.0.12)\n",
            "Requirement already satisfied: sentencepiece!=0.1.92 in /usr/local/lib/python3.6/dist-packages (from transformers) (0.1.91)\n",
            "Requirement already satisfied: sacremoses in /usr/local/lib/python3.6/dist-packages (from transformers) (0.0.43)\n",
            "Requirement already satisfied: tqdm>=4.27 in /usr/local/lib/python3.6/dist-packages (from transformers) (4.41.1)\n",
            "Requirement already satisfied: dataclasses; python_version < \"3.7\" in /usr/local/lib/python3.6/dist-packages (from transformers) (0.7)\n",
            "Requirement already satisfied: requests in /usr/local/lib/python3.6/dist-packages (from transformers) (2.23.0)\n",
            "Requirement already satisfied: pyparsing>=2.0.2 in /usr/local/lib/python3.6/dist-packages (from packaging->transformers) (2.4.7)\n",
            "Requirement already satisfied: six in /usr/local/lib/python3.6/dist-packages (from packaging->transformers) (1.15.0)\n",
            "Requirement already satisfied: joblib in /usr/local/lib/python3.6/dist-packages (from sacremoses->transformers) (0.16.0)\n",
            "Requirement already satisfied: click in /usr/local/lib/python3.6/dist-packages (from sacremoses->transformers) (7.1.2)\n",
            "Requirement already satisfied: chardet<4,>=3.0.2 in /usr/local/lib/python3.6/dist-packages (from requests->transformers) (3.0.4)\n",
            "Requirement already satisfied: urllib3!=1.25.0,!=1.25.1,<1.26,>=1.21.1 in /usr/local/lib/python3.6/dist-packages (from requests->transformers) (1.24.3)\n",
            "Requirement already satisfied: idna<3,>=2.5 in /usr/local/lib/python3.6/dist-packages (from requests->transformers) (2.10)\n",
            "Requirement already satisfied: certifi>=2017.4.17 in /usr/local/lib/python3.6/dist-packages (from requests->transformers) (2020.6.20)\n"
          ],
          "name": "stdout"
        }
      ]
    },
    {
      "cell_type": "code",
      "metadata": {
        "id": "5bdzskGt8aEF",
        "colab_type": "code",
        "colab": {}
      },
      "source": [
        "import torch"
      ],
      "execution_count": 57,
      "outputs": []
    },
    {
      "cell_type": "code",
      "metadata": {
        "id": "PnNWpsxl8aHq",
        "colab_type": "code",
        "colab": {}
      },
      "source": [
        "from transformers import BertForQuestionAnswering\n",
        "\n",
        "model = BertForQuestionAnswering.from_pretrained('bert-large-uncased-whole-word-masking-finetuned-squad')"
      ],
      "execution_count": 58,
      "outputs": []
    },
    {
      "cell_type": "code",
      "metadata": {
        "id": "ehrercij8aKt",
        "colab_type": "code",
        "colab": {}
      },
      "source": [
        "from transformers import BertTokenizer\n",
        "\n",
        "tokenizer = BertTokenizer.from_pretrained('bert-large-uncased-whole-word-masking-finetuned-squad')"
      ],
      "execution_count": 59,
      "outputs": []
    },
    {
      "cell_type": "code",
      "metadata": {
        "id": "l1g4zCwp8aNq",
        "colab_type": "code",
        "colab": {}
      },
      "source": [
        "question1=\" Who was Mohammad Ali?\"\n",
        "question2 = \"Where was Mohammad Ali born?\"\n",
        "question3 = \"Did Mohammad ali join the military?\""
      ],
      "execution_count": 60,
      "outputs": []
    },
    {
      "cell_type": "code",
      "metadata": {
        "id": "MhO9L7ai_hW6",
        "colab_type": "code",
        "colab": {}
      },
      "source": [
        "def answer_question(question):\n",
        "    \n",
        "    answer_text = \"\"\"His joint records of beating 21 boxers for the world heavyweight title and winning 14 unified title bouts stood for 35 years. \n",
        "    He remained an active public figure globally but in his later years made increasingly limited public appearances as his condition worsened and \n",
        "    he was cared for by his family. In 1984 he made public his diagnosis of Parkinson's disease which some reports attribute to boxing-related injuries\n",
        "    though he and his specialist physicians disputed this. At 18 he won a gold medal in the light heavyweight division at the 1960 Summer Olympics and \n",
        "    turned professional later that year. Ali was arguably the most famous and documented human of the 20th century.Muhammad Ali (/ɑːˈliː/;  born Cassius\n",
        "    Marcellus Clay Jr.;  January 17 1942 – June 3 2016) was an American professional boxer activist and philanthropist.Ali thrived in the spotlight at a \n",
        "    time when many fighters let their managers do the talking and he was often provocative and outlandish. He was famous for trash-talking and often \n",
        "    free-styled with rhyme schemes and spoken word poetry anticipating elements of hip hop. He won the  world heavyweight championship from Sonny Liston \n",
        "    in a major upset at age 22 in 1964. Ali was born and raised in Louisville Kentucky and began training as an amateur boxer at age 12. Ali was known to \n",
        "    be a very generous person who loved attention as well as making other people happy. [note 1] Ali is the only boxer to be named the Ring magazine Fighter\n",
        "    of the Year six times. He was arrested found guilty of draft evasion and stripped of his boxing titles. Ali also attained success as a musician receiving\n",
        "    two  Grammy award nominations. In 1966 Ali refused to be drafted into the military citing his religious beliefs and opposition to the Vietnam War.\n",
        "    He was an ocassional actor and a writer who released two autobiographies. He converted to Islam and became a Muslim after 1961 and eventually took the name\n",
        "    Muhammad Ali. As a Muslim Ali was initially affiliated with Elijah Muhammad's Nation of Islam (NOI).\"\"\"\n",
        "   \n",
        "    input_ids = tokenizer.encode(question, answer_text)\n",
        "\n",
        "   \n",
        "    print('Query has {:,} tokens.\\n'.format(len(input_ids)))\n",
        "\n",
        "   \n",
        "    sep_index = input_ids.index(tokenizer.sep_token_id)\n",
        "\n",
        "    \n",
        "    num_seg_a = sep_index + 1\n",
        "\n",
        "   \n",
        "    num_seg_b = len(input_ids) - num_seg_a\n",
        "\n",
        "    \n",
        "    segment_ids = [0]*num_seg_a + [1]*num_seg_b\n",
        "\n",
        "   \n",
        "    assert len(segment_ids) == len(input_ids)\n",
        "\n",
        "    \n",
        "    start_scores, end_scores = model(torch.tensor([input_ids]), # The tokens representing our input text.\n",
        "                                    token_type_ids=torch.tensor([segment_ids])) # The segment IDs to differentiate question from answer_text\n",
        "\n",
        "   \n",
        "    answer_start = torch.argmax(start_scores)\n",
        "    answer_end = torch.argmax(end_scores)\n",
        "\n",
        "    \n",
        "    tokens = tokenizer.convert_ids_to_tokens(input_ids)\n",
        "\n",
        "    \n",
        "    answer = tokens[answer_start]\n",
        "\n",
        "    \n",
        "    for i in range(answer_start + 1, answer_end + 1):\n",
        "        \n",
        "        \n",
        "        if tokens[i][0:2] == '##':\n",
        "            answer += tokens[i][2:]\n",
        "        \n",
        "      \n",
        "        else:\n",
        "            answer += ' ' + tokens[i]\n",
        "\n",
        "    print('Answer: \"' + answer + '\"')"
      ],
      "execution_count": 61,
      "outputs": []
    },
    {
      "cell_type": "code",
      "metadata": {
        "id": "FS6Q-v8t8aTD",
        "colab_type": "code",
        "colab": {
          "base_uri": "https://localhost:8080/",
          "height": 67
        },
        "outputId": "59f2028e-c57d-4cc2-b1c8-f0abfc270ac1"
      },
      "source": [
        "answer_question(question1)"
      ],
      "execution_count": 62,
      "outputs": [
        {
          "output_type": "stream",
          "text": [
            "Query has 407 tokens.\n",
            "\n",
            "Answer: \"professional boxer activist and philanthropist\"\n"
          ],
          "name": "stdout"
        }
      ]
    },
    {
      "cell_type": "code",
      "metadata": {
        "id": "RQHbR_ER8aWO",
        "colab_type": "code",
        "colab": {
          "base_uri": "https://localhost:8080/",
          "height": 67
        },
        "outputId": "8cd4c6b9-321f-42d8-cdf5-8f7926c2089d"
      },
      "source": [
        "answer_question(question2)"
      ],
      "execution_count": 63,
      "outputs": [
        {
          "output_type": "stream",
          "text": [
            "Query has 408 tokens.\n",
            "\n",
            "Answer: \"louisville kentucky\"\n"
          ],
          "name": "stdout"
        }
      ]
    },
    {
      "cell_type": "code",
      "metadata": {
        "id": "4V5Vj0f08aZ_",
        "colab_type": "code",
        "colab": {
          "base_uri": "https://localhost:8080/",
          "height": 67
        },
        "outputId": "69fe391f-e6c8-4dd7-d1b4-c7fb2a72c990"
      },
      "source": [
        "answer_question(question3)"
      ],
      "execution_count": 64,
      "outputs": [
        {
          "output_type": "stream",
          "text": [
            "Query has 409 tokens.\n",
            "\n",
            "Answer: \"refused to be drafted into the military\"\n"
          ],
          "name": "stdout"
        }
      ]
    },
    {
      "cell_type": "code",
      "metadata": {
        "id": "Sao_zuSh8ac_",
        "colab_type": "code",
        "colab": {}
      },
      "source": [
        ""
      ],
      "execution_count": null,
      "outputs": []
    },
    {
      "cell_type": "code",
      "metadata": {
        "id": "y8XACnnO8afp",
        "colab_type": "code",
        "colab": {}
      },
      "source": [
        ""
      ],
      "execution_count": null,
      "outputs": []
    },
    {
      "cell_type": "code",
      "metadata": {
        "id": "3Mt1XVqy8ai-",
        "colab_type": "code",
        "colab": {}
      },
      "source": [
        ""
      ],
      "execution_count": null,
      "outputs": []
    },
    {
      "cell_type": "code",
      "metadata": {
        "id": "rO6Td4Wp8ala",
        "colab_type": "code",
        "colab": {}
      },
      "source": [
        ""
      ],
      "execution_count": null,
      "outputs": []
    }
  ]
}